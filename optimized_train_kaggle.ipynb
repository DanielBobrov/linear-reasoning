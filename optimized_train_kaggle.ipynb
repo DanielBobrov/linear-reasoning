{
 "cells": [
  {
   "cell_type": "markdown",
   "metadata": {},
   "source": [
    "# Оптимизированное обучение RecRNN модели\n",
    "\n",
    "Этот ноутбук использует оптимизированный подход с прогнозированием одного целевого токена."
   ]
  },
  {
   "cell_type": "markdown",
   "metadata": {},
   "source": [
    "## 1. Клонирование репозитория\n",
    "\n",
    "Сначала клонируем репозиторий с кодом и данными:"
   ]
  },
  {
   "cell_type": "code",
   "execution_count": null,
   "metadata": {},
   "outputs": [],
   "source": [
    "!git clone https://your-repo-url.git /kaggle/working/recurrent-pretraining\n",
    "%cd /kaggle/working/recurrent-pretraining"
   ]
  },
  {
   "cell_type": "markdown",
   "metadata": {},
   "source": [
    "## 2. Установка зависимостей\n",
    "\n",
    "Устанавливаем необходимые библиотеки:"
   ]
  },
  {
   "cell_type": "code",
   "execution_count": null,
   "metadata": {},
   "outputs": [],
   "source": [
    "!pip install lightning torch torchdata numpy tqdm"
   ]
  },
  {
   "cell_type": "markdown",
   "metadata": {},
   "source": [
    "## 3. Настройка директорий данных\n",
    "\n",
    "Настроим пути к данным и выходным директориям для Kaggle:"
   ]
  },
  {
   "cell_type": "code",
   "execution_count": null,
   "metadata": {},
   "outputs": [],
   "source": [
    "import os\n",
    "import shutil\n",
    "from pathlib import Path\n",
    "\n",
    "# Проверяем, есть ли данные во входном каталоге\n",
    "input_dir = Path(\"/kaggle/input\")\n",
    "data_sources = list(input_dir.glob(\"*/data\"))\n",
    "\n",
    "if not data_sources:\n",
    "    print(\"Данные не найдены в /kaggle/input - будем использовать собственные данные из репозитория\")\n",
    "    data_dir = Path(\"/kaggle/working/recurrent-pretraining/data\")\n",
    "else:\n",
    "    data_dir = data_sources[0]\n",
    "    print(f\"Будем использовать данные из {data_dir}\")\n",
    "\n",
    "# Создаем символическую ссылку для удобства доступа\n",
    "working_data_dir = Path(\"/kaggle/working/data\")\n",
    "if not working_data_dir.exists():\n",
    "    os.symlink(data_dir, working_data_dir)\n",
    "\n",
    "# Создаем директории для выходных данных\n",
    "output_dir = Path(\"/kaggle/working/output\")\n",
    "output_dir.mkdir(parents=True, exist_ok=True)\n",
    "\n",
    "print(f\"Директория данных: {data_dir}\")\n",
    "print(f\"Рабочая ссылка на данные: {working_data_dir}\")\n",
    "print(f\"Директория для выходных файлов: {output_dir}\")"
   ]
  },
  {
   "cell_type": "markdown",
   "metadata": {},
   "source": [
    "## 4. Анализ датасета\n",
    "\n",
    "Запускаем улучшенный анализ данных:"
   ]
  },
  {
   "cell_type": "code",
   "execution_count": null,
   "metadata": {},
   "outputs": [],
   "source": [
    "!python analyze_dataset.py"
   ]
  },
  {
   "cell_type": "markdown",
   "metadata": {},
   "source": [
    "## 5. Подготовка оптимизированных данных\n",
    "\n",
    "Подготовим данные, токенизируя их и оптимизируя для предсказания одного токена:"
   ]
  },
  {
   "cell_type": "code",
   "execution_count": null,
   "metadata": {},
   "outputs": [],
   "source": [
    "!python prepare_optimized_data.py"
   ]
  },
  {
   "cell_type": "markdown",
   "metadata": {},
   "source": [
    "## 6. Обучение с помощью оптимизированного подхода\n",
    "\n",
    "Запускаем оптимизированный скрипт для Kaggle, который использует одиночные токены для предсказания:"
   ]
  },
  {
   "cell_type": "code",
   "execution_count": null,
   "metadata": {},
   "outputs": [],
   "source": [
    "!python kaggle_run.py --optimize-data --hidden-size 768 --batch-size 16"
   ]
  },
  {
   "cell_type": "markdown",
   "metadata": {},
   "source": [
    "## 7. Проверка результатов\n",
    "\n",
    "Проверяем файлы, созданные в процессе обучения:"
   ]
  },
  {
   "cell_type": "code",
   "execution_count": null,
   "metadata": {},
   "outputs": [],
   "source": [
    "import os\n",
    "print(\"Files in output directory:\")\n",
    "!ls -la /kaggle/working/output/"
   ]
  },
  {
   "cell_type": "markdown",
   "metadata": {},
   "source": [
    "## 8. Тестирование обученной модели\n",
    "\n",
    "Проверяем работу модели на нескольких примерах из тестового набора:"
   ]
  },
  {
   "cell_type": "code",
   "execution_count": null,
   "metadata": {},
   "outputs": [],
   "source": [
    "import json\n",
    "import torch\n",
    "from simple_tokenizer import SimpleTokenizer\n",
    "\n",
    "# Загружаем модель\n",
    "model_path = \"/kaggle/working/output/best_model.pt\"\n",
    "tokenizer = SimpleTokenizer(\"/kaggle/input/paper-data/data/comparison.1000.12.6/vocab.json\")\n",
    "\n",
    "# Загружаем несколько примеров из тестового набора\n",
    "with open(\"/kaggle/input/paper-data/data/comparison.1000.12.6/test.json\", \"r\") as f:\n",
    "    test_data = json.load(f)[:5]\n",
    "\n",
    "# Выводим результаты\n",
    "for item in test_data:\n",
    "    print(f\"Input: {item['input_text']}\")\n",
    "    print(f\"Target: {item['target_text']}\")\n",
    "    print(\"---\")"
   ]
  },
  {
   "cell_type": "markdown",
   "metadata": {},
   "source": [
    "## 9. Сохранение модели для дальнейшего использования\n",
    "\n",
    "Копируем модель в постоянное хранилище Kaggle:"
   ]
  },
  {
   "cell_type": "code",
   "execution_count": null,
   "metadata": {},
   "outputs": [],
   "source": [
    "!mkdir -p /kaggle/working/saved_models\n",
    "!cp -r /kaggle/working/output/* /kaggle/working/saved_models/"
   ]
  }
 ],
 "metadata": {
  "language_info": {
   "name": "python"
  }
 },
 "nbformat": 4,
 "nbformat_minor": 2
}
