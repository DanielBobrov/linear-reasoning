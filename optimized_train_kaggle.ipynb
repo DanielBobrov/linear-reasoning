{
 "cells": [
  {
   "cell_type": "markdown",
   "metadata": {},
   "source": [
    "# Оптимизированное обучение RecRNN модели\n",
    "\n",
    "Этот ноутбук использует оптимизированный подход с прогнозированием одного целевого токена."
   ]
  },
  {
   "cell_type": "markdown",
   "metadata": {},
   "source": [
    "## 1. Клонирование репозитория\n",
    "\n",
    "Сначала клонируем репозиторий с кодом и данными:"
   ]
  },
  {
   "cell_type": "code",
   "execution_count": null,
   "metadata": {},
   "outputs": [],
   "source": [
    "!git clone https://your-repo-url.git /kaggle/working/recurrent-pretraining\n",
    "%cd /kaggle/working/recurrent-pretraining"
   ]
  },
  {
   "cell_type": "markdown",
   "metadata": {},
   "source": [
    "## 2. Установка зависимостей\n",
    "\n",
    "Устанавливаем необходимые библиотеки:"
   ]
  },
  {
   "cell_type": "code",
   "execution_count": null,
   "metadata": {},
   "outputs": [],
   "source": [
    "!pip install lightning torch torchdata numpy tqdm"
   ]
  },
  {
   "cell_type": "markdown",
   "metadata": {},
   "source": [
    "## 3. Анализ датасета\n",
    "\n",
    "Запускаем улучшенный анализ данных:"
   ]
  },
  {
   "cell_type": "code",
   "execution_count": null,
   "metadata": {},
   "outputs": [],
   "source": [
    "!python analyze_dataset.py"
   ]
  },
  {
   "cell_type": "markdown",
   "metadata": {},
   "source": [
    "## 4. Подготовка оптимизированных данных\n",
    "\n",
    "Подготовим данные, токенизируя их и оптимизируя для предсказания одного токена:"
   ]
  },
  {
   "cell_type": "code",
   "execution_count": null,
   "metadata": {},
   "outputs": [],
   "source": [
    "!python prepare_optimized_data.py"
   ]
  },
  {
   "cell_type": "markdown",
   "metadata": {},
   "source": [
    "## 5. Обучение с помощью оптимизированного подхода\n",
    "\n",
    "Есть два варианта запуска обучения:\n",
    "\n",
    "### Вариант 1: Используя интегрированный тренер для одиночной задачи классификации"
   ]
  },
  {
   "cell_type": "code",
   "execution_count": null,
   "metadata": {},
   "outputs": [],
   "source": [
    "!python model_trainer.py --epochs 10 --batch-size 32 --learning-rate 5e-5"
   ]
  },
  {
   "cell_type": "markdown",
   "metadata": {},
   "source": [
    "### Вариант 2: Используя стандартный тренер с оптимизированными данными"
   ]
  },
  {
   "cell_type": "code",
   "execution_count": null,
   "metadata": {},
   "outputs": [],
   "source": [
    "!python run_small_model.py --optimize-data --hidden-size 768 --batch-size 16"
   ]
  },
  {
   "cell_type": "markdown",
   "metadata": {},
   "source": [
    "## 6. Проверка результатов\n",
    "\n",
    "Проверяем файлы, созданные в процессе обучения:"
   ]
  },
  {
   "cell_type": "code",
   "execution_count": null,
   "metadata": {},
   "outputs": [],
   "source": [
    "import os\n",
    "print(\"Files in output directory:\")\n",
    "!ls -la output/"
   ]
  },
  {
   "cell_type": "markdown",
   "metadata": {},
   "source": [
    "## 7. Тестирование обученной модели\n",
    "\n",
    "Проверяем работу модели на нескольких примерах из тестового набора:"
   ]
  },
  {
   "cell_type": "code",
   "execution_count": null,
   "metadata": {},
   "outputs": [],
   "source": [
    "import json\n",
    "import torch\n",
    "from simple_tokenizer import SimpleTokenizer\n",
    "\n",
    "# Загружаем модель\n",
    "model_path = \"output/best_model.pt\"\n",
    "tokenizer = SimpleTokenizer(\"data/vocab.json\")\n",
    "\n",
    "# Загружаем несколько примеров из тестового набора\n",
    "with open(\"data/test.json\", \"r\") as f:\n",
    "    test_data = json.load(f)[:5]\n",
    "\n",
    "# Выводим результаты\n",
    "for item in test_data:\n",
    "    print(f\"Input: {item['input_text']}\")\n",
    "    print(f\"Target: {item['target_text']}\")\n",
    "    print(\"---\")"
   ]
  },
  {
   "cell_type": "markdown",
   "metadata": {},
   "source": [
    "## 8. Сохранение модели\n",
    "\n",
    "Копируем модель в постоянное хранилище Kaggle:"
   ]
  },
  {
   "cell_type": "code",
   "execution_count": null,
   "metadata": {},
   "outputs": [],
   "source": [
    "!mkdir -p /kaggle/working/saved_models\n",
    "!cp -r output/* /kaggle/working/saved_models/"
   ]
  }
 ],
 "metadata": {
  "kernelspec": {
   "display_name": "Python 3",
   "language": "python",
   "name": "python3"
  },
  "language_info": {
   "codemirror_mode": {
    "name": "ipython",
    "version": 3
   },
   "file_extension": ".py",
   "mimetype": "text/x-python",
   "name": "python",
   "nbconvert_exporter": "python",
   "pygments_lexer": "ipython3",
   "version": "3.8.10"
  }
 },
 "nbformat": 4,
 "nbformat_minor": 4
}
