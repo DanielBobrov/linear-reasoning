{
 "cells": [
  {
   "cell_type": "markdown",
   "metadata": {},
   "source": [
    "# Стандартное обучение RecRNN модели\n",
    "\n",
    "Этот ноутбук запускает стандартное обучение маленькой версии RecRNN модели."
   ]
  },
  {
   "cell_type": "markdown",
   "metadata": {},
   "source": [
    "## 1. Клонирование репозитория\n",
    "\n",
    "Сначала клонируем репозиторий с кодом и данными:"
   ]
  },
  {
   "cell_type": "code",
   "execution_count": null,
   "metadata": {},
   "outputs": [],
   "source": [
    "!git clone https://your-repo-url.git /kaggle/working/recurrent-pretraining\n",
    "%cd /kaggle/working/recurrent-pretraining"
   ]
  },
  {
   "cell_type": "markdown",
   "metadata": {},
   "source": [
    "## 2. Установка зависимостей\n",
    "\n",
    "Установим необходимые библиотеки:"
   ]
  },
  {
   "cell_type": "code",
   "execution_count": null,
   "metadata": {},
   "outputs": [],
   "source": [
    "!pip install lightning torch torchdata numpy tqdm"
   ]
  },
  {
   "cell_type": "markdown",
   "metadata": {},
   "source": [
    "## 3. Настройка директорий данных\n",
    "\n",
    "Настроим пути к данным и выходным директориям для Kaggle:"
   ]
  },
  {
   "cell_type": "code",
   "execution_count": null,
   "metadata": {},
   "outputs": [],
   "source": [
    "import os\n",
    "import shutil\n",
    "from pathlib import Path\n",
    "\n",
    "# Проверяем, есть ли данные во входном каталоге\n",
    "input_dir = Path(\"/kaggle/input\")\n",
    "data_sources = list(input_dir.glob(\"*/data\"))\n",
    "\n",
    "if not data_sources:\n",
    "    print(\"Данные не найдены в /kaggle/input - будем использовать собственные данные из репозитория\")\n",
    "    data_dir = Path(\"/kaggle/working/recurrent-pretraining/data\")\n",
    "else:\n",
    "    data_dir = data_sources[0]\n",
    "    print(f\"Будем использовать данные из {data_dir}\")\n",
    "\n",
    "# Создаем символическую ссылку для удобства доступа\n",
    "working_data_dir = Path(\"/kaggle/working/data\")\n",
    "if not working_data_dir.exists():\n",
    "    os.symlink(data_dir, working_data_dir)\n",
    "\n",
    "# Создаем директории для выходных данных\n",
    "output_dir = Path(\"/kaggle/working/output\")\n",
    "output_dir.mkdir(parents=True, exist_ok=True)\n",
    "\n",
    "print(f\"Директория данных: {data_dir}\")\n",
    "print(f\"Рабочая ссылка на данные: {working_data_dir}\")\n",
    "print(f\"Директория для выходных файлов: {output_dir}\")"
   ]
  },
  {
   "cell_type": "markdown",
   "metadata": {},
   "source": [
    "## 4. Анализ датасета\n",
    "\n",
    "Запустим анализ данных, чтобы понять их структуру:"
   ]
  },
  {
   "cell_type": "code",
   "execution_count": null,
   "metadata": {},
   "outputs": [],
   "source": [
    "!python analyze_dataset.py"
   ]
  },
  {
   "cell_type": "markdown",
   "metadata": {},
   "source": [
    "## 5. Подготовка данных\n",
    "\n",
    "Подготовим данные, токенизируя их для модели:"
   ]
  },
  {
   "cell_type": "code",
   "execution_count": null,
   "metadata": {},
   "outputs": [],
   "source": [
    "!python prepare_optimized_data.py"
   ]
  },
  {
   "cell_type": "markdown",
   "metadata": {},
   "source": [
    "## 6. Обучение модели с Kaggle-специфичным скриптом\n",
    "\n",
    "Запустим обучение используя специальную версию скрипта для Kaggle:"
   ]
  },
  {
   "cell_type": "code",
   "execution_count": null,
   "metadata": {},
   "outputs": [],
   "source": [
    "!python kaggle_run.py --hidden-size 768 --batch-size 16"
   ]
  },
  {
   "cell_type": "markdown",
   "metadata": {},
   "source": [
    "## 6. Проверка результатов\n",
    "\n",
    "Проверим файлы, созданные в процессе обучения:"
   ]
  },
  {
   "cell_type": "code",
   "execution_count": null,
   "metadata": {},
   "outputs": [],
   "source": [
    "import os\n",
    "print(\"Files in output directory:\")\n",
    "!ls -la /kaggle/working/output/"
   ]
  },
  {
   "cell_type": "markdown",
   "metadata": {},
   "source": [
    "## 8. Простая проверка на тестовых примерах\n",
    "\n",
    "Протестируем обученную модель на нескольких примерах:"
   ]
  },
  {
   "cell_type": "code",
   "execution_count": null,
   "metadata": {},
   "outputs": [],
   "source": [
    "import torch\n",
    "import json\n",
    "from simple_tokenizer import SimpleTokenizer\n",
    "\n",
    "# Загрузим несколько примеров из тестового набора\n",
    "with open(\"/kaggle/working/data/test.json\", \"r\") as f:\n",
    "    test_examples = json.load(f)[:5]  # Берем первые 5 примеров\n",
    "\n",
    "# Выведем примеры\n",
    "for i, example in enumerate(test_examples):\n",
    "    print(f\"Пример {i+1}:\")\n",
    "    print(f\"  Input: {example['input_text']}\")\n",
    "    print(f\"  Target: {example['target_text']}\")\n",
    "    print(f\"  Тип: {example.get('type', 'unknown')}\")\n",
    "    print()"
   ]
  },
  {
   "cell_type": "markdown",
   "metadata": {},
   "source": [
    "## 9. Сохранение модели для дальнейшего использования\n",
    "\n",
    "Скопируем модель в постоянное хранилище Kaggle:"
   ]
  },
  {
   "cell_type": "code",
   "execution_count": null,
   "metadata": {},
   "outputs": [],
   "source": [
    "!mkdir -p /kaggle/working/saved_models\n",
    "!cp -r /kaggle/working/output/* /kaggle/working/saved_models/"
   ]
  }
 ],
 "metadata": {
  "kernelspec": {
   "display_name": "Python 3",
   "language": "python",
   "name": "python3"
  },
  "language_info": {
   "codemirror_mode": {
    "name": "ipython",
    "version": 3
   },
   "file_extension": ".py",
   "mimetype": "text/x-python",
   "name": "python",
   "nbconvert_exporter": "python",
   "pygments_lexer": "ipython3",
   "version": "3.8.10"
  }
 },
 "nbformat": 4,
 "nbformat_minor": 4
}
